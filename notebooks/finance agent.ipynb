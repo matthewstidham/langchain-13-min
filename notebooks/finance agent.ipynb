{
 "cells": [
  {
   "cell_type": "code",
   "execution_count": 29,
   "id": "065b10a2-29f9-4183-a98c-3c5736523097",
   "metadata": {},
   "outputs": [],
   "source": [
    "import yfinance as yf\n",
    "import pandas as pd\n",
    "from datetime import datetime, timedelta\n",
    "import os\n",
    "from langchain.agents import initialize_agent, AgentType\n",
    "from langchain.tools import Tool\n",
    "from langchain_openai import ChatOpenAI\n",
    "from langchain.memory import ConversationBufferMemory\n",
    "\n",
    "from dotenv import load_dotenv,find_dotenv\n",
    "load_dotenv(find_dotenv())\n",
    "\n",
    "llm = ChatOpenAI(temperature=0, model=\"gpt-3.5-turbo\")\n",
    "\n",
    "class FinancialTools:\n",
    "    def __init__(self):\n",
    "        self.risk_free_rate = 0.045  # Current 10-year Treasury rate\n",
    "    \n",
    "    def get_stock_data(self, symbol: str, period: str = \"1mo\") -> str:\n",
    "        \"\"\"Get stock price data and basic metrics.\"\"\"\n",
    "        try:\n",
    "            stock = yf.Ticker(symbol)\n",
    "            data = stock.history(period=period)\n",
    "            current_price = data['Close'].iloc[-1]\n",
    "            change = ((current_price - data['Close'].iloc[0]) / data['Close'].iloc[0]) * 100\n",
    "            \n",
    "            return f\"Symbol: {symbol}\\nCurrent Price: ${current_price:.2f}\\nPeriod Change: {change:.2f}%\"\n",
    "        except Exception as e:\n",
    "            return f\"Error retrieving data for {symbol}: {str(e)}\"\n",
    "    \n",
    "    def calculate_portfolio_risk(self, input_str: str) -> str:\n",
    "        print(input_str)\n",
    "        inputs = input_str.split(',')\n",
    "        symbols = [x.split(':')[0] for x in inputs]\n",
    "        weights = [x.split(':')[1] for x in inputs]\n",
    "        \"\"\"Calculate portfolio risk metrics.\"\"\"\n",
    "        try:\n",
    "            # Fetch historical data\n",
    "            data = yf.download(symbols, period=\"1y\")['Adj Close']\n",
    "            returns = data.pct_change().dropna()\n",
    "            \n",
    "            # Calculate portfolio return\n",
    "            portfolio_return = (returns * weights).sum(axis=1)\n",
    "            volatility = portfolio_return.std() * (252 ** 0.5)  # Annualized volatility\n",
    "            \n",
    "            return f\"Portfolio Volatility: {volatility:.2%}\\nRisk Assessment: {'High' if volatility > 0.2 else 'Moderate' if volatility > 0.1 else 'Low'}\"\n",
    "        except Exception as e:\n",
    "            return f\"Error calculating portfolio risk: {str(e)}\"\n",
    "\n",
    "# Create financial tools\n",
    "financial_tools = FinancialTools()\n",
    "\n",
    "stock_data_tool = Tool(\n",
    "    name=\"get_stock_data\",\n",
    "    description=\"Get current stock price and performance data\",\n",
    "    func=financial_tools.get_stock_data\n",
    ")\n",
    "\n",
    "portfolio_risk_tool = Tool(\n",
    "    name=\"calculate_portfolio_risk\",\n",
    "    description=\"Calculate portfolio risk metrics given symbols and weights\",\n",
    "    func = financial_tools.calculate_portfolio_risk\n",
    ")\n"
   ]
  },
  {
   "cell_type": "code",
   "execution_count": 30,
   "id": "9ae993dc-a949-4dd5-ba17-0c5b817df46d",
   "metadata": {},
   "outputs": [
    {
     "name": "stdout",
     "output_type": "stream",
     "text": [
      "\n",
      "\n",
      "\u001b[1m> Entering new AgentExecutor chain...\u001b[0m\n",
      "\u001b[32;1m\u001b[1;3m```json\n",
      "{\n",
      "    \"action\": \"calculate_portfolio_risk\",\n",
      "    \"action_input\": \"AAPL:0.6,MSFT:0.4\"\n",
      "}\n",
      "```\u001b[0mAAPL:0.6,MSFT:0.4\n"
     ]
    },
    {
     "name": "stderr",
     "output_type": "stream",
     "text": [
      "/var/folders/qc/qdwcn8y54q9bc60c6s4xrk1c0000gn/T/ipykernel_13479/3518054121.py:39: FutureWarning: YF.download() has changed argument auto_adjust default to True\n",
      "  data = yf.download(symbols, period=\"1y\")['Adj Close']\n",
      "[*********************100%***********************]  2 of 2 completed\n"
     ]
    },
    {
     "name": "stdout",
     "output_type": "stream",
     "text": [
      "\n",
      "Observation: \u001b[33;1m\u001b[1;3mError calculating portfolio risk: 'Adj Close'\u001b[0m\n",
      "Thought:\u001b[32;1m\u001b[1;3m```json\n",
      "{\n",
      "    \"action\": \"Final Answer\",\n",
      "    \"action_input\": \"There was an error in calculating the portfolio risk. To analyze AAPL stock performance, I recommend obtaining current stock price and performance data for AAPL.\"\n",
      "}\n",
      "```\u001b[0m\n",
      "\n",
      "\u001b[1m> Finished chain.\u001b[0m\n",
      "There was an error in calculating the portfolio risk. To analyze AAPL stock performance, I recommend obtaining current stock price and performance data for AAPL.\n"
     ]
    }
   ],
   "source": [
    "# Create financial agent with specialized prompt\n",
    "financial_agent = initialize_agent(\n",
    "    tools=[stock_data_tool, portfolio_risk_tool],\n",
    "    llm=llm,\n",
    "    agent=AgentType.CHAT_CONVERSATIONAL_REACT_DESCRIPTION,\n",
    "    memory=ConversationBufferMemory(memory_key=\"chat_history\", return_messages=True),\n",
    "    verbose=True,\n",
    "    agent_kwargs={\n",
    "        \"system_message\": \"\"\"You are a financial analysis assistant. You help with stock analysis, \n",
    "        portfolio risk assessment, and market data interpretation. Always include disclaimers \n",
    "        about investment risks and recommend consulting with financial advisors. Use precise \n",
    "        financial terminology and provide data-driven insights.\"\"\"\n",
    "    }\n",
    ")\n",
    "\n",
    "# Test financial agent\n",
    "response = financial_agent.run(\"Analyze AAPL stock performance and assess risk for a portfolio with 60% AAPL and 40% MSFT\")\n",
    "print(response)\n"
   ]
  },
  {
   "cell_type": "code",
   "execution_count": null,
   "id": "99d020a1-997b-4191-9dd7-7236b4793177",
   "metadata": {},
   "outputs": [],
   "source": []
  }
 ],
 "metadata": {
  "kernelspec": {
   "display_name": "Python 3 (ipykernel)",
   "language": "python",
   "name": "python3"
  },
  "language_info": {
   "codemirror_mode": {
    "name": "ipython",
    "version": 3
   },
   "file_extension": ".py",
   "mimetype": "text/x-python",
   "name": "python",
   "nbconvert_exporter": "python",
   "pygments_lexer": "ipython3",
   "version": "3.11.11"
  }
 },
 "nbformat": 4,
 "nbformat_minor": 5
}
