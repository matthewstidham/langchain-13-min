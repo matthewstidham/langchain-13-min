{
 "cells": [
  {
   "cell_type": "code",
   "execution_count": null,
   "id": "af5d8213-96aa-48eb-bb2c-c8e6f57e2b7e",
   "metadata": {},
   "outputs": [],
   "source": [
    "import main"
   ]
  },
  {
   "cell_type": "code",
   "execution_count": null,
   "id": "2074cc30-4be8-4c14-a8c6-44a4ad209aea",
   "metadata": {},
   "outputs": [],
   "source": [
    "app = main.run_app()"
   ]
  },
  {
   "cell_type": "code",
   "execution_count": null,
   "id": "17fb53cb-82d1-4c38-a35a-83e7f572bf57",
   "metadata": {},
   "outputs": [],
   "source": [
    "# --- Run Graph ---\n",
    "result = app.invoke({\"user_query\": \"What is the value of MSFT?\"})\n",
    "print(result[\"answer\"])"
   ]
  },
  {
   "cell_type": "code",
   "execution_count": null,
   "id": "030e8a1d-7632-448d-b291-396a88b8191c",
   "metadata": {},
   "outputs": [],
   "source": [
    "# --- Run Graph ---\n",
    "result = app.invoke({\"user_query\": \"Analyze AAPL stock performance and assess risk for a portfolio with 30% AAPL, 30% FB, and 40% MSFT\"})\n",
    "print(result[\"answer\"])\n"
   ]
  },
  {
   "cell_type": "code",
   "execution_count": null,
   "id": "8f3d4a5d-2300-4fa5-a0d1-c8477fe58db4",
   "metadata": {},
   "outputs": [],
   "source": [
    "import financial_tools"
   ]
  },
  {
   "cell_type": "code",
   "execution_count": null,
   "id": "b681d1e1-cdb6-4878-bb47-cc0df43fb8c9",
   "metadata": {},
   "outputs": [],
   "source": [
    "financial_tools.main()"
   ]
  },
  {
   "cell_type": "code",
   "execution_count": null,
   "id": "e9db057e-204f-4f70-8aef-ff38d892f94f",
   "metadata": {},
   "outputs": [],
   "source": [
    "# --- Run Graph ---\n",
    "result = app.invoke({\"user_query\": \"What is the weather in Tbilisi?\"})\n",
    "print(result[\"answer\"])\n"
   ]
  },
  {
   "cell_type": "code",
   "execution_count": null,
   "id": "5dbf9335-0e3d-4b59-9cef-1f722f2b9019",
   "metadata": {},
   "outputs": [],
   "source": []
  }
 ],
 "metadata": {
  "kernelspec": {
   "display_name": "Python 3 (ipykernel)",
   "language": "python",
   "name": "python3"
  },
  "language_info": {
   "codemirror_mode": {
    "name": "ipython",
    "version": 3
   },
   "file_extension": ".py",
   "mimetype": "text/x-python",
   "name": "python",
   "nbconvert_exporter": "python",
   "pygments_lexer": "ipython3",
   "version": "3.11.11"
  }
 },
 "nbformat": 4,
 "nbformat_minor": 5
}
